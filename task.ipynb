{
 "cells": [
  {
   "cell_type": "markdown",
   "id": "14319ae4",
   "metadata": {},
   "source": [
    "Task on the basis of string functions..."
   ]
  },
  {
   "cell_type": "code",
   "execution_count": null,
   "id": "8195afdc",
   "metadata": {},
   "outputs": [
    {
     "ename": "SyntaxError",
     "evalue": "invalid syntax (3962004819.py, line 18)",
     "output_type": "error",
     "traceback": [
      "  \u001b[36mCell\u001b[39m\u001b[36m \u001b[39m\u001b[32mIn[6]\u001b[39m\u001b[32m, line 18\u001b[39m\n\u001b[31m    \u001b[39m\u001b[31mschool name = \" ashok high school umred \"\u001b[39m\n           ^\n\u001b[31mSyntaxError\u001b[39m\u001b[31m:\u001b[39m invalid syntax\n"
     ]
    }
   ],
   "source": [
    "# practice on the title functions\n",
    "\n",
    "name = \"mohan gunderao wankhede\"\n",
    "print (name.title())\n",
    "\n",
    "\n",
    "name = \"roht devidas dahilkar\"\n",
    "print (name.title ())\n",
    "\n",
    "name = \"madhu kisan raut \"\n",
    "print (name.title ())  \n",
    "\n",
    "\n",
    "\n",
    "Address = \" at umred ta umred dist nagpur \"\n",
    "print (Address.title ())\n",
    "\n",
    "school name = \" ashok high school umred \"\n",
    "print(school name.title ())"
   ]
  }
 ],
 "metadata": {
  "kernelspec": {
   "display_name": "Python 3",
   "language": "python",
   "name": "python3"
  },
  "language_info": {
   "codemirror_mode": {
    "name": "ipython",
    "version": 3
   },
   "file_extension": ".py",
   "mimetype": "text/x-python",
   "name": "python",
   "nbconvert_exporter": "python",
   "pygments_lexer": "ipython3",
   "version": "3.13.7"
  }
 },
 "nbformat": 4,
 "nbformat_minor": 5
}
